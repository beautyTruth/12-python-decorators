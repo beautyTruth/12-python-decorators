{
 "cells": [
  {
   "cell_type": "code",
   "execution_count": 15,
   "id": "587b08cd",
   "metadata": {},
   "outputs": [],
   "source": [
    "def hello(name='Phil'):\n",
    "    print(\"The hello() function has been executed!\")\n",
    "    \n",
    "    def greet():\n",
    "        return '\\t This is the greet() function inside of the hello() function!'\n",
    "    \n",
    "    def welcome():\n",
    "        return '\\t This is welcome() inside of hello() too'\n",
    "        \n",
    "    print('I am going to return a function')\n",
    "    \n",
    "    if name == 'Phil':\n",
    "        return greet\n",
    "    else: \n",
    "        return welcome"
   ]
  },
  {
   "cell_type": "code",
   "execution_count": 18,
   "id": "8ff97947",
   "metadata": {},
   "outputs": [
    {
     "name": "stdout",
     "output_type": "stream",
     "text": [
      "The hello() function has been executed!\n",
      "I am going to return a function\n"
     ]
    }
   ],
   "source": [
    "my_new_func = hello(\"Phil\")"
   ]
  },
  {
   "cell_type": "code",
   "execution_count": 19,
   "id": "64f55bd2",
   "metadata": {},
   "outputs": [
    {
     "data": {
      "text/plain": [
       "<function __main__.hello.<locals>.greet()>"
      ]
     },
     "execution_count": 19,
     "metadata": {},
     "output_type": "execute_result"
    }
   ],
   "source": [
    "my_new_func"
   ]
  },
  {
   "cell_type": "code",
   "execution_count": 20,
   "id": "e2a3c883",
   "metadata": {},
   "outputs": [
    {
     "data": {
      "text/plain": [
       "'\\t This is the greet() function inside of the hello() function!'"
      ]
     },
     "execution_count": 20,
     "metadata": {},
     "output_type": "execute_result"
    }
   ],
   "source": [
    "my_new_func()"
   ]
  },
  {
   "cell_type": "code",
   "execution_count": 21,
   "id": "3a80daa5",
   "metadata": {},
   "outputs": [
    {
     "name": "stdout",
     "output_type": "stream",
     "text": [
      "\t This is the greet() function inside of the hello() function!\n"
     ]
    }
   ],
   "source": [
    "print(my_new_func())"
   ]
  },
  {
   "cell_type": "code",
   "execution_count": 22,
   "id": "3f58c062",
   "metadata": {},
   "outputs": [],
   "source": [
    "def cool():\n",
    "    \n",
    "    def super_cool():\n",
    "        return \"I am very cool\"\n",
    "    return super_cool"
   ]
  },
  {
   "cell_type": "code",
   "execution_count": 23,
   "id": "d22de122",
   "metadata": {},
   "outputs": [],
   "source": [
    "some_func = cool()"
   ]
  },
  {
   "cell_type": "code",
   "execution_count": 24,
   "id": "5a397958",
   "metadata": {},
   "outputs": [
    {
     "data": {
      "text/plain": [
       "<function __main__.cool.<locals>.super_cool()>"
      ]
     },
     "execution_count": 24,
     "metadata": {},
     "output_type": "execute_result"
    }
   ],
   "source": [
    "some_func"
   ]
  },
  {
   "cell_type": "code",
   "execution_count": 25,
   "id": "507565da",
   "metadata": {},
   "outputs": [
    {
     "data": {
      "text/plain": [
       "'I am very cool'"
      ]
     },
     "execution_count": 25,
     "metadata": {},
     "output_type": "execute_result"
    }
   ],
   "source": [
    "some_func()"
   ]
  },
  {
   "cell_type": "code",
   "execution_count": 26,
   "id": "7014c935",
   "metadata": {},
   "outputs": [],
   "source": [
    "def hello():\n",
    "    return 'Hey Phil!'"
   ]
  },
  {
   "cell_type": "code",
   "execution_count": 31,
   "id": "6e219077",
   "metadata": {},
   "outputs": [],
   "source": [
    "def other(some_def_func):\n",
    "    print('other code from somewhere else runs here')\n",
    "    print(some_def_func())"
   ]
  },
  {
   "cell_type": "code",
   "execution_count": 32,
   "id": "89ed9350",
   "metadata": {},
   "outputs": [
    {
     "data": {
      "text/plain": [
       "<function __main__.hello()>"
      ]
     },
     "execution_count": 32,
     "metadata": {},
     "output_type": "execute_result"
    }
   ],
   "source": [
    "hello"
   ]
  },
  {
   "cell_type": "code",
   "execution_count": 33,
   "id": "d09dc502",
   "metadata": {},
   "outputs": [
    {
     "data": {
      "text/plain": [
       "'Hey Phil!'"
      ]
     },
     "execution_count": 33,
     "metadata": {},
     "output_type": "execute_result"
    }
   ],
   "source": [
    "hello()"
   ]
  },
  {
   "cell_type": "code",
   "execution_count": 34,
   "id": "41e5544f",
   "metadata": {},
   "outputs": [
    {
     "name": "stdout",
     "output_type": "stream",
     "text": [
      "other code from somewhere else runs here\n",
      "Hey Phil!\n"
     ]
    }
   ],
   "source": [
    "other(hello)"
   ]
  },
  {
   "cell_type": "code",
   "execution_count": 35,
   "id": "411e3d76",
   "metadata": {},
   "outputs": [],
   "source": [
    "def new_decorator(original_func):\n",
    "    \n",
    "    def wrap_func():\n",
    "        \n",
    "        print('Some extra code BEFORE the original function')\n",
    "        \n",
    "        original_func()\n",
    "        \n",
    "        print('Some extra code AFTER the original function')\n",
    "        \n",
    "    return wrap_func"
   ]
  },
  {
   "cell_type": "code",
   "execution_count": 36,
   "id": "a5b76c5c",
   "metadata": {},
   "outputs": [],
   "source": [
    "def func_needs_decorator():\n",
    "    \n",
    "    print('I want to be decorated, man!')"
   ]
  },
  {
   "cell_type": "code",
   "execution_count": 37,
   "id": "8cf1d3a1",
   "metadata": {},
   "outputs": [
    {
     "name": "stdout",
     "output_type": "stream",
     "text": [
      "I want to be decorated, man!\n"
     ]
    }
   ],
   "source": [
    "func_needs_decorator()"
   ]
  },
  {
   "cell_type": "code",
   "execution_count": 38,
   "id": "6c965bd2",
   "metadata": {},
   "outputs": [
    {
     "data": {
      "text/plain": [
       "<function __main__.new_decorator.<locals>.wrap_func()>"
      ]
     },
     "execution_count": 38,
     "metadata": {},
     "output_type": "execute_result"
    }
   ],
   "source": [
    "new_decorator(func_needs_decorator)"
   ]
  },
  {
   "cell_type": "code",
   "execution_count": 39,
   "id": "440bdd69",
   "metadata": {},
   "outputs": [],
   "source": [
    "decorated_func = new_decorator(func_needs_decorator)"
   ]
  },
  {
   "cell_type": "code",
   "execution_count": 40,
   "id": "999cf0c0",
   "metadata": {},
   "outputs": [
    {
     "data": {
      "text/plain": [
       "<function __main__.new_decorator.<locals>.wrap_func()>"
      ]
     },
     "execution_count": 40,
     "metadata": {},
     "output_type": "execute_result"
    }
   ],
   "source": [
    "decorated_func"
   ]
  },
  {
   "cell_type": "code",
   "execution_count": 41,
   "id": "ce3969bc",
   "metadata": {},
   "outputs": [
    {
     "name": "stdout",
     "output_type": "stream",
     "text": [
      "Some extra code BEFORE the original function\n",
      "I want to be decorated, man!\n",
      "Some extra code AFTER the original function\n"
     ]
    }
   ],
   "source": [
    "decorated_func()"
   ]
  },
  {
   "cell_type": "code",
   "execution_count": 42,
   "id": "23c43998",
   "metadata": {},
   "outputs": [],
   "source": [
    "# comment out the @new_decorator to turn off the decorator\n",
    "\n",
    "@new_decorator\n",
    "def func_needs_decorator():\n",
    "    \n",
    "    print('I want to be decorated, man!')"
   ]
  },
  {
   "cell_type": "code",
   "execution_count": 43,
   "id": "f6381ef8",
   "metadata": {},
   "outputs": [
    {
     "name": "stdout",
     "output_type": "stream",
     "text": [
      "Some extra code BEFORE the original function\n",
      "I want to be decorated, man!\n",
      "Some extra code AFTER the original function\n"
     ]
    }
   ],
   "source": [
    "func_needs_decorator()"
   ]
  },
  {
   "cell_type": "code",
   "execution_count": null,
   "id": "f5ae75d1",
   "metadata": {},
   "outputs": [],
   "source": []
  }
 ],
 "metadata": {
  "kernelspec": {
   "display_name": "Python 3 (ipykernel)",
   "language": "python",
   "name": "python3"
  },
  "language_info": {
   "codemirror_mode": {
    "name": "ipython",
    "version": 3
   },
   "file_extension": ".py",
   "mimetype": "text/x-python",
   "name": "python",
   "nbconvert_exporter": "python",
   "pygments_lexer": "ipython3",
   "version": "3.11.3"
  }
 },
 "nbformat": 4,
 "nbformat_minor": 5
}
